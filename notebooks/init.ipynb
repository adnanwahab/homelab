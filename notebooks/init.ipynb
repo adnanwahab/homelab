{
 "cells": [
  {
   "cell_type": "code",
   "execution_count": 3,
   "id": "5982bed6-380f-409e-9318-d3f42f9ba893",
   "metadata": {},
   "outputs": [
    {
     "ename": "ReferenceError",
     "evalue": "print is not defined",
     "output_type": "error",
     "traceback": [
      "Stack trace:",
      "ReferenceError: print is not defined",
      "    at <anonymous>:1:22"
     ]
    }
   ],
   "source": [
    "print ('wiki editable wordpress etc')"
   ]
  },
  {
   "cell_type": "code",
   "execution_count": 5,
   "id": "c4944a60-0f85-46a5-bcb3-a348dc837ac5",
   "metadata": {},
   "outputs": [
    {
     "ename": "Unexpected token `bs4`. Expected a string literal at file:///repl.tsx:2:6\n\n  from bs4 import BeautifulSoup\n       ~~~",
     "evalue": "Unexpected token `bs4`. Expected a string literal at file:///repl.tsx:2:6\n\n  from bs4 import BeautifulSoup\n       ~~~",
     "output_type": "error",
     "traceback": []
    }
   ],
   "source": [
    "import requests\n",
    "from bs4 import BeautifulSoup\n",
    "import csv\n",
    "\n",
    "# The given Goodreads list URL\n",
    "url = \"https://www.goodreads.com/list/show/137290._Alan_Kay_s_Reading_List\"\n",
    "\n",
    "response = requests.get(url)\n",
    "if response.status_code != 200:\n",
    "    print(f\"Failed to retrieve the page. Status code: {response.status_code}\")\n",
    "else:\n",
    "    soup = BeautifulSoup(response.text, 'html.parser')\n",
    "    \n",
    "    # Each book entry on a Goodreads list page is usually within a table row <tr> with class \"bookalike\"\n",
    "    # Let’s inspect for something consistent: often the books are in <tr> tags with class 'bookalike'.\n",
    "    \n",
    "    book_rows = soup.find_all('tr', {'itemtype': 'http://schema.org/Book'})\n",
    "    if not book_rows:\n",
    "        # If we don't find these rows, we might need to adjust our search criteria\n",
    "        book_rows = soup.find_all('tr', class_='bookalike review')\n",
    "    \n",
    "    books_data = []\n",
    "    for row in book_rows:\n",
    "        # Extract the title\n",
    "        # Usually titles are in <a class=\"bookTitle\">\n",
    "        title_tag = row.find('a', class_='bookTitle')\n",
    "        author_tag = row.find('a', class_='authorName')\n",
    "        \n",
    "        if title_tag and author_tag:\n",
    "            title = title_tag.get_text(strip=True)\n",
    "            author = author_tag.get_text(strip=True)\n",
    "            \n",
    "            # Append to our list\n",
    "            books_data.append((title, author))\n",
    "    \n",
    "    # Print what we found\n",
    "    for b in books_data:\n",
    "        print(\"Title:\", b[0], \"| Author:\", b[1])\n",
    "    \n",
    "    # Save to a CSV file\n",
    "    csv_filename = 'alan_kay_reading_list.csv'\n",
    "    with open(csv_filename, 'w', newline='', encoding='utf-8') as f:\n",
    "        writer = csv.writer(f)\n",
    "        writer.writerow([\"Title\", \"Author\"])\n",
    "        writer.writerows(books_data)\n",
    "    \n",
    "    print(f\"\\nData saved to {csv_filename}.\")"
   ]
  },
  {
   "cell_type": "code",
   "execution_count": 6,
   "id": "ffcfeb13-099f-43ca-bf71-c777045d2eeb",
   "metadata": {},
   "outputs": [
    {
     "ename": "Expected ',', got '<eof>' at file:///repl.tsx:1:8\n\n  import bs4\n         ~~~",
     "evalue": "Expected ',', got '<eof>' at file:///repl.tsx:1:8\n\n  import bs4\n         ~~~",
     "output_type": "error",
     "traceback": []
    }
   ],
   "source": [
    "import bs4"
   ]
  }
 ],
 "metadata": {
  "kernelspec": {
   "display_name": "Deno",
   "language": "typescript",
   "name": "deno"
  },
  "language_info": {
   "codemirror_mode": "typescript",
   "file_extension": ".ts",
   "mimetype": "text/x.typescript",
   "name": "typescript",
   "nbconvert_exporter": "script",
   "pygments_lexer": "typescript",
   "version": "5.6.2"
  }
 },
 "nbformat": 4,
 "nbformat_minor": 5
}
