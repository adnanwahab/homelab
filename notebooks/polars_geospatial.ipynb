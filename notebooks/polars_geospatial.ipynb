{
 "cells": [
  {
   "cell_type": "code",
   "execution_count": 10,
   "id": "2738b411-baff-4b65-9142-8a740dd24995",
   "metadata": {},
   "outputs": [
    {
     "name": "stdout",
     "output_type": "stream",
     "text": [
      "\u001b[2mAudited \u001b[1m1 package\u001b[0m \u001b[2min 5ms\u001b[0m\u001b[0m\n"
     ]
    }
   ],
   "source": [
    "! uv pip install polars\n",
    "import polars as pl\n",
    "\n",
    "\n",
    "csv_path = \"/home/adnan/derp/map_data/311_nyc.csv\"\n",
    "\n",
    "\n",
    "# Directly read only the first 100 rows\n",
    "df = pl.read_csv(csv_path,\n",
    "                    null_values=\"NA\",\n",
    "                    ignore_errors=True\n",
    ")\n",
    "#df.head()  # show first rows in a notebook"
   ]
  },
  {
   "cell_type": "code",
   "execution_count": 11,
   "id": "58e13250-2f55-4cee-b1ed-364c0ac7d5ab",
   "metadata": {},
   "outputs": [],
   "source": [
    "# # Replace \"Created Date\" with the actual name of your date column\n",
    "# df = df.with_columns(\n",
    "#     pl.col(\"Created Date\").str.to_datetime(\"%m/%d/%Y %I:%M:%S %p\", strict=False).dt.year().alias(\"year\")\n",
    "# )\n",
    "\n",
    "# Replace \"Created Date\" with the actual name of your date column\n",
    "df = df.with_columns(\n",
    "    pl.col(\"Created Date\").str.to_datetime(\"%m/%d/%Y %I:%M:%S %p\", strict=False).dt.year().alias(\"year\")\n",
    ")"
   ]
  },
  {
   "cell_type": "code",
   "execution_count": 12,
   "id": "47655cea-a7e5-4205-aeb2-18ce8b2d9005",
   "metadata": {},
   "outputs": [
    {
     "name": "stdout",
     "output_type": "stream",
     "text": [
      "[2010, 2011, 2012, 2013, 2014, 2015, 2016, 2017, 2018, 2019, 2020, 2021, 2022, 2023, 2024, 2025]\n"
     ]
    }
   ],
   "source": [
    "unique_years = df.select(pl.col(\"year\").unique().sort()).to_series().to_list()\n",
    "print(unique_years)"
   ]
  },
  {
   "cell_type": "code",
   "execution_count": 13,
   "id": "f5ab9c75-382d-4bb7-80db-a74f167fb53e",
   "metadata": {},
   "outputs": [
    {
     "name": "stdout",
     "output_type": "stream",
     "text": [
      "Wrote /home/adnan/derp/map_data/311_nyc_2010.csv with 2089790 rows.\n",
      "Wrote /home/adnan/derp/map_data/311_nyc_2011.csv with 2011176 rows.\n",
      "Wrote /home/adnan/derp/map_data/311_nyc_2012.csv with 1837128 rows.\n",
      "Wrote /home/adnan/derp/map_data/311_nyc_2013.csv with 1887595 rows.\n",
      "Wrote /home/adnan/derp/map_data/311_nyc_2014.csv with 2156744 rows.\n",
      "Wrote /home/adnan/derp/map_data/311_nyc_2015.csv with 2322529 rows.\n",
      "Wrote /home/adnan/derp/map_data/311_nyc_2016.csv with 2409074 rows.\n",
      "Wrote /home/adnan/derp/map_data/311_nyc_2017.csv with 2508525 rows.\n",
      "Wrote /home/adnan/derp/map_data/311_nyc_2018.csv with 2760168 rows.\n",
      "Wrote /home/adnan/derp/map_data/311_nyc_2019.csv with 2633245 rows.\n",
      "Wrote /home/adnan/derp/map_data/311_nyc_2020.csv with 2942063 rows.\n",
      "Wrote /home/adnan/derp/map_data/311_nyc_2021.csv with 3220914 rows.\n",
      "Wrote /home/adnan/derp/map_data/311_nyc_2022.csv with 3169844 rows.\n",
      "Wrote /home/adnan/derp/map_data/311_nyc_2023.csv with 3225556 rows.\n",
      "Wrote /home/adnan/derp/map_data/311_nyc_2024.csv with 3458201 rows.\n",
      "Wrote /home/adnan/derp/map_data/311_nyc_2025.csv with 48519 rows.\n"
     ]
    }
   ],
   "source": [
    "for yr in unique_years:\n",
    "    df_year = df.filter(pl.col(\"year\") == yr)\n",
    "    out_path = f\"/home/adnan/derp/map_data/311_nyc_{yr}.csv\"\n",
    "    df_year.write_csv(out_path)\n",
    "    print(f\"Wrote {out_path} with {df_year.shape[0]} rows.\")"
   ]
  },
  {
   "cell_type": "code",
   "execution_count": 14,
   "id": "93fb047b-b7d0-4cd0-ba99-c4b17aed5c16",
   "metadata": {},
   "outputs": [
    {
     "data": {
      "text/html": [
       "<div><style>\n",
       ".dataframe > thead > tr,\n",
       ".dataframe > tbody > tr {\n",
       "  text-align: right;\n",
       "  white-space: pre-wrap;\n",
       "}\n",
       "</style>\n",
       "<small>shape: (5, 42)</small><table border=\"1\" class=\"dataframe\"><thead><tr><th>Unique Key</th><th>Created Date</th><th>Closed Date</th><th>Agency</th><th>Agency Name</th><th>Complaint Type</th><th>Descriptor</th><th>Location Type</th><th>Incident Zip</th><th>Incident Address</th><th>Street Name</th><th>Cross Street 1</th><th>Cross Street 2</th><th>Intersection Street 1</th><th>Intersection Street 2</th><th>Address Type</th><th>City</th><th>Landmark</th><th>Facility Type</th><th>Status</th><th>Due Date</th><th>Resolution Description</th><th>Resolution Action Updated Date</th><th>Community Board</th><th>BBL</th><th>Borough</th><th>X Coordinate (State Plane)</th><th>Y Coordinate (State Plane)</th><th>Open Data Channel Type</th><th>Park Facility Name</th><th>Park Borough</th><th>Vehicle Type</th><th>Taxi Company Borough</th><th>Taxi Pick Up Location</th><th>Bridge Highway Name</th><th>Bridge Highway Direction</th><th>Road Ramp</th><th>Bridge Highway Segment</th><th>Latitude</th><th>Longitude</th><th>Location</th><th>year</th></tr><tr><td>i64</td><td>str</td><td>str</td><td>str</td><td>str</td><td>str</td><td>str</td><td>str</td><td>i64</td><td>str</td><td>str</td><td>str</td><td>str</td><td>str</td><td>str</td><td>str</td><td>str</td><td>str</td><td>str</td><td>str</td><td>str</td><td>str</td><td>str</td><td>str</td><td>i64</td><td>str</td><td>i64</td><td>i64</td><td>str</td><td>str</td><td>str</td><td>str</td><td>str</td><td>str</td><td>str</td><td>str</td><td>str</td><td>str</td><td>f64</td><td>f64</td><td>str</td><td>i32</td></tr></thead><tbody><tr><td>59525599</td><td>&quot;11/22/2023 06:43:24 AM&quot;</td><td>&quot;11/22/2023 10:11:03 AM&quot;</td><td>&quot;DPR&quot;</td><td>&quot;Department of Parks and Recrea…</td><td>&quot;Damaged Tree&quot;</td><td>&quot;Entire Tree Has Fallen Down&quot;</td><td>&quot;Street&quot;</td><td>11219</td><td>&quot;1023 39 STREET&quot;</td><td>&quot;39 STREET&quot;</td><td>&quot;10 AVENUE&quot;</td><td>&quot;FORT HAMILTON PARKWAY&quot;</td><td>&quot;10 AVENUE&quot;</td><td>&quot;FORT HAMILTON PARKWAY&quot;</td><td>&quot;ADDRESS&quot;</td><td>&quot;BROOKLYN&quot;</td><td>&quot;39 STREET&quot;</td><td>null</td><td>&quot;Closed&quot;</td><td>null</td><td>&quot;NYC Parks created a work order…</td><td>&quot;11/22/2023 10:11:07 AM&quot;</td><td>&quot;12 BROOKLYN&quot;</td><td>3052880073</td><td>&quot;BROOKLYN&quot;</td><td>986432</td><td>173963</td><td>&quot;PHONE&quot;</td><td>&quot;Unspecified&quot;</td><td>&quot;BROOKLYN&quot;</td><td>null</td><td>null</td><td>null</td><td>null</td><td>null</td><td>null</td><td>null</td><td>40.644165</td><td>-73.992137</td><td>&quot;(40.64416461259247, -73.992137…</td><td>2023</td></tr><tr><td>59525600</td><td>&quot;11/22/2023 07:28:34 PM&quot;</td><td>&quot;11/27/2023 12:00:00 AM&quot;</td><td>&quot;DOB&quot;</td><td>&quot;Department of Buildings&quot;</td><td>&quot;General Construction/Plumbing&quot;</td><td>&quot;Building Permit - None&quot;</td><td>null</td><td>11105</td><td>&quot;23-66 35 STREET&quot;</td><td>&quot;35 STREET&quot;</td><td>null</td><td>null</td><td>null</td><td>null</td><td>&quot;ADDRESS&quot;</td><td>&quot;ASTORIA&quot;</td><td>null</td><td>&quot;N/A&quot;</td><td>&quot;Closed&quot;</td><td>null</td><td>&quot;The Department of Buildings re…</td><td>&quot;11/27/2023 12:00:00 AM&quot;</td><td>&quot;01 QUEENS&quot;</td><td>4008340060</td><td>&quot;QUEENS&quot;</td><td>1008420</td><td>220451</td><td>&quot;UNKNOWN&quot;</td><td>&quot;Unspecified&quot;</td><td>&quot;QUEENS&quot;</td><td>null</td><td>null</td><td>null</td><td>null</td><td>null</td><td>null</td><td>null</td><td>40.77173</td><td>-73.912738</td><td>&quot;(40.77173037739367, -73.912738…</td><td>2023</td></tr><tr><td>59525601</td><td>&quot;11/22/2023 06:53:57 AM&quot;</td><td>&quot;11/22/2023 10:21:35 AM&quot;</td><td>&quot;NYPD&quot;</td><td>&quot;New York City Police Departmen…</td><td>&quot;Illegal Parking&quot;</td><td>&quot;Detached Trailer&quot;</td><td>&quot;Street/Sidewalk&quot;</td><td>11219</td><td>&quot;5910 12 AVENUE&quot;</td><td>&quot;12 AVENUE&quot;</td><td>&quot;59 STREET&quot;</td><td>&quot;60 STREET&quot;</td><td>&quot;59 STREET&quot;</td><td>&quot;60 STREET&quot;</td><td>&quot;ADDRESS&quot;</td><td>&quot;BROOKLYN&quot;</td><td>&quot;12 AVENUE&quot;</td><td>null</td><td>&quot;Closed&quot;</td><td>null</td><td>&quot;The Police Department responde…</td><td>&quot;11/22/2023 10:21:38 AM&quot;</td><td>&quot;12 BROOKLYN&quot;</td><td>3057100035</td><td>&quot;BROOKLYN&quot;</td><td>984171</td><td>169033</td><td>&quot;ONLINE&quot;</td><td>&quot;Unspecified&quot;</td><td>&quot;BROOKLYN&quot;</td><td>null</td><td>null</td><td>null</td><td>null</td><td>null</td><td>null</td><td>null</td><td>40.630633</td><td>-74.000285</td><td>&quot;(40.6306330824364, -74.0002846…</td><td>2023</td></tr><tr><td>59525602</td><td>&quot;11/22/2023 12:42:54 PM&quot;</td><td>&quot;11/22/2023 01:16:07 PM&quot;</td><td>&quot;NYPD&quot;</td><td>&quot;New York City Police Departmen…</td><td>&quot;Illegal Parking&quot;</td><td>&quot;Unauthorized Bus Layover&quot;</td><td>&quot;Street/Sidewalk&quot;</td><td>10006</td><td>&quot;112 TRINITY PLACE&quot;</td><td>&quot;TRINITY PLACE&quot;</td><td>&quot;CEDAR STREET&quot;</td><td>&quot;CHURCH STREET&quot;</td><td>&quot;CEDAR STREET&quot;</td><td>&quot;CHURCH STREET&quot;</td><td>&quot;ADDRESS&quot;</td><td>&quot;NEW YORK&quot;</td><td>&quot;TRINITY PLACE&quot;</td><td>null</td><td>&quot;Closed&quot;</td><td>null</td><td>&quot;The Police Department responde…</td><td>&quot;11/22/2023 01:16:11 PM&quot;</td><td>&quot;01 MANHATTAN&quot;</td><td>1000520030</td><td>&quot;MANHATTAN&quot;</td><td>980981</td><td>197784</td><td>&quot;ONLINE&quot;</td><td>&quot;Unspecified&quot;</td><td>&quot;MANHATTAN&quot;</td><td>null</td><td>null</td><td>null</td><td>null</td><td>null</td><td>null</td><td>null</td><td>40.709548</td><td>-74.011791</td><td>&quot;(40.70954754148294, -74.011791…</td><td>2023</td></tr><tr><td>59525603</td><td>&quot;11/22/2023 02:55:26 PM&quot;</td><td>&quot;12/07/2023 12:00:00 AM&quot;</td><td>&quot;DOB&quot;</td><td>&quot;Department of Buildings&quot;</td><td>&quot;Special Projects Inspection Te…</td><td>&quot;Advertising Sign/Billboard/Pos…</td><td>null</td><td>10306</td><td>&quot;2354 HYLAN BOULEVARD&quot;</td><td>&quot;HYLAN BOULEVARD&quot;</td><td>null</td><td>null</td><td>null</td><td>null</td><td>&quot;ADDRESS&quot;</td><td>&quot;STATEN ISLAND&quot;</td><td>null</td><td>&quot;N/A&quot;</td><td>&quot;Closed&quot;</td><td>null</td><td>&quot;The Department of Buildings in…</td><td>&quot;12/07/2023 12:00:00 AM&quot;</td><td>&quot;02 STATEN ISLAND&quot;</td><td>5039050021</td><td>&quot;STATEN ISLAND&quot;</td><td>954636</td><td>148271</td><td>&quot;UNKNOWN&quot;</td><td>&quot;Unspecified&quot;</td><td>&quot;STATEN ISLAND&quot;</td><td>null</td><td>null</td><td>null</td><td>null</td><td>null</td><td>null</td><td>null</td><td>40.573596</td><td>-74.106599</td><td>&quot;(40.5735961552756, -74.1065993…</td><td>2023</td></tr></tbody></table></div>"
      ],
      "text/plain": [
       "shape: (5, 42)\n",
       "┌────────────┬─────────────┬─────────────┬────────┬───┬───────────┬────────────┬────────────┬──────┐\n",
       "│ Unique Key ┆ Created     ┆ Closed Date ┆ Agency ┆ … ┆ Latitude  ┆ Longitude  ┆ Location   ┆ year │\n",
       "│ ---        ┆ Date        ┆ ---         ┆ ---    ┆   ┆ ---       ┆ ---        ┆ ---        ┆ ---  │\n",
       "│ i64        ┆ ---         ┆ str         ┆ str    ┆   ┆ f64       ┆ f64        ┆ str        ┆ i32  │\n",
       "│            ┆ str         ┆             ┆        ┆   ┆           ┆            ┆            ┆      │\n",
       "╞════════════╪═════════════╪═════════════╪════════╪═══╪═══════════╪════════════╪════════════╪══════╡\n",
       "│ 59525599   ┆ 11/22/2023  ┆ 11/22/2023  ┆ DPR    ┆ … ┆ 40.644165 ┆ -73.992137 ┆ (40.644164 ┆ 2023 │\n",
       "│            ┆ 06:43:24 AM ┆ 10:11:03 AM ┆        ┆   ┆           ┆            ┆ 61259247,  ┆      │\n",
       "│            ┆             ┆             ┆        ┆   ┆           ┆            ┆ -73.992137 ┆      │\n",
       "│            ┆             ┆             ┆        ┆   ┆           ┆            ┆ …          ┆      │\n",
       "│ 59525600   ┆ 11/22/2023  ┆ 11/27/2023  ┆ DOB    ┆ … ┆ 40.77173  ┆ -73.912738 ┆ (40.771730 ┆ 2023 │\n",
       "│            ┆ 07:28:34 PM ┆ 12:00:00 AM ┆        ┆   ┆           ┆            ┆ 37739367,  ┆      │\n",
       "│            ┆             ┆             ┆        ┆   ┆           ┆            ┆ -73.912738 ┆      │\n",
       "│            ┆             ┆             ┆        ┆   ┆           ┆            ┆ …          ┆      │\n",
       "│ 59525601   ┆ 11/22/2023  ┆ 11/22/2023  ┆ NYPD   ┆ … ┆ 40.630633 ┆ -74.000285 ┆ (40.630633 ┆ 2023 │\n",
       "│            ┆ 06:53:57 AM ┆ 10:21:35 AM ┆        ┆   ┆           ┆            ┆ 0824364,   ┆      │\n",
       "│            ┆             ┆             ┆        ┆   ┆           ┆            ┆ -74.000284 ┆      │\n",
       "│            ┆             ┆             ┆        ┆   ┆           ┆            ┆ 6…         ┆      │\n",
       "│ 59525602   ┆ 11/22/2023  ┆ 11/22/2023  ┆ NYPD   ┆ … ┆ 40.709548 ┆ -74.011791 ┆ (40.709547 ┆ 2023 │\n",
       "│            ┆ 12:42:54 PM ┆ 01:16:07 PM ┆        ┆   ┆           ┆            ┆ 54148294,  ┆      │\n",
       "│            ┆             ┆             ┆        ┆   ┆           ┆            ┆ -74.011791 ┆      │\n",
       "│            ┆             ┆             ┆        ┆   ┆           ┆            ┆ …          ┆      │\n",
       "│ 59525603   ┆ 11/22/2023  ┆ 12/07/2023  ┆ DOB    ┆ … ┆ 40.573596 ┆ -74.106599 ┆ (40.573596 ┆ 2023 │\n",
       "│            ┆ 02:55:26 PM ┆ 12:00:00 AM ┆        ┆   ┆           ┆            ┆ 1552756,   ┆      │\n",
       "│            ┆             ┆             ┆        ┆   ┆           ┆            ┆ -74.106599 ┆      │\n",
       "│            ┆             ┆             ┆        ┆   ┆           ┆            ┆ 3…         ┆      │\n",
       "└────────────┴─────────────┴─────────────┴────────┴───┴───────────┴────────────┴────────────┴──────┘"
      ]
     },
     "execution_count": 14,
     "metadata": {},
     "output_type": "execute_result"
    }
   ],
   "source": [
    "df.head()"
   ]
  },
  {
   "cell_type": "code",
   "execution_count": 29,
   "id": "f848e6d0-49b3-4901-ba3f-c8dcf71f9bf8",
   "metadata": {},
   "outputs": [
    {
     "name": "stdout",
     "output_type": "stream",
     "text": [
      "/home/adnan/derp/map_data/311_nyc_2018.csv\n",
      "/home/adnan/derp/map_data/311_nyc_2016.csv\n",
      "/home/adnan/derp/map_data/311_nyc_2011.csv\n",
      "/home/adnan/derp/map_data/311_nyc_2024.csv\n",
      "/home/adnan/derp/map_data/311_nyc_2023.csv\n",
      "/home/adnan/derp/map_data/311_nyc_2022.csv\n",
      "/home/adnan/derp/map_data/311_nyc_2025.csv\n",
      "/home/adnan/derp/map_data/311_nyc_2010.csv\n",
      "/home/adnan/derp/map_data/311_nyc_2017.csv\n",
      "/home/adnan/derp/map_data/311_nyc_2019.csv\n",
      "/home/adnan/derp/map_data/311_nyc_2021.csv\n",
      "/home/adnan/derp/map_data/311_nyc_2014.csv\n",
      "/home/adnan/derp/map_data/311_nyc_2013.csv\n",
      "/home/adnan/derp/map_data/311_nyc.csv\n",
      "/home/adnan/derp/map_data/311_nyc_2012.csv\n",
      "/home/adnan/derp/map_data/311_nyc_2015.csv\n",
      "/home/adnan/derp/map_data/311_nyc_2020.csv\n"
     ]
    }
   ],
   "source": [
    "import glob\n",
    "import polars as pl\n",
    "\n",
    "columns_to_keep = [\n",
    "    \"Unique Key\",\n",
    "    \"Created Date\", \n",
    "    \"Closed Date\", \n",
    "    #\"Agency\", \n",
    "    #\"Agency Name\",\n",
    "    \"Complaint Type\", \n",
    "    #\"Descriptor\", \n",
    "    \"Location Type\", \n",
    "    #\"Incident Zip\",\n",
    "    #\"City\", \n",
    "    #\"Borough\", \n",
    "    \"Latitude\", \n",
    "    \"Longitude\", \n",
    "    #\"Status\",\n",
    "]\n",
    "\n",
    "for file_path in glob.glob(\"/home/adnan/derp/map_data/*.csv\"):\n",
    "    df = pl.read_csv(\n",
    "        file_path,\n",
    "        columns=columns_to_keep,\n",
    "        null_values=[\"NA\", \"N/A\", \"\"]  # Include placeholders in the list\n",
    "    )\n",
    "\n",
    "    print(file_path)\n",
    "    out_path = file_path.replace(\".csv\", \"_filtered.csv\")\n",
    "    df.write_csv(out_path)"
   ]
  },
  {
   "cell_type": "code",
   "execution_count": 32,
   "id": "4ca933f2-b619-4d1c-a505-a337f16da6aa",
   "metadata": {},
   "outputs": [
    {
     "name": "stdout",
     "output_type": "stream",
     "text": [
      "/home/adnan/derp/map_data/311_nyc_2018.csv 0\n",
      "/home/adnan/derp/map_data/311_nyc_2016.csv 1\n",
      "/home/adnan/derp/map_data/311_nyc_2011.csv 2\n",
      "/home/adnan/derp/map_data/311_nyc_2024.csv 3\n",
      "/home/adnan/derp/map_data/311_nyc_2023.csv 4\n",
      "/home/adnan/derp/map_data/311_nyc_2022.csv 5\n",
      "/home/adnan/derp/map_data/311_nyc_2025.csv 6\n",
      "/home/adnan/derp/map_data/311_nyc_2010.csv 7\n",
      "/home/adnan/derp/map_data/311_nyc_2017.csv 8\n",
      "/home/adnan/derp/map_data/311_nyc_2019.csv 9\n",
      "/home/adnan/derp/map_data/311_nyc_2021.csv 10\n",
      "/home/adnan/derp/map_data/311_nyc_2014.csv 11\n",
      "/home/adnan/derp/map_data/311_nyc_2013.csv 12\n",
      "/home/adnan/derp/map_data/311_nyc.csv 13\n",
      "/home/adnan/derp/map_data/311_nyc_2012.csv 14\n",
      "/home/adnan/derp/map_data/311_nyc_2015.csv 15\n",
      "/home/adnan/derp/map_data/311_nyc_2020.csv 16\n",
      "complete\n"
     ]
    }
   ],
   "source": [
    "import glob\n",
    "import polars as pl\n",
    "\n",
    "columns_to_keep = [\n",
    "    \"Unique Key\",\n",
    "    \"Created Date\", \n",
    "    \"Closed Date\",\n",
    "    \"Agency\", \n",
    "    \"Agency Name\",\n",
    "    \"Complaint Type\",\n",
    "    \"Descriptor\",\n",
    "    \"Location Type\",\n",
    "    \"Incident Zip\",  # Will become a string\n",
    "    \"City\",\n",
    "    \"Borough\",\n",
    "    \"Latitude\",\n",
    "    \"Longitude\",\n",
    "    #\"Status\",\n",
    "]\n",
    "\n",
    "for i, file_path in enumerate(glob.glob(\"/home/adnan/derp/map_data/*.csv\")):\n",
    "    print(file_path, i )\n",
    "    if file_path == '/home/adnan/derp/map_data/311_nyc.csv': continue\n",
    "    df = pl.read_csv(\n",
    "        file_path,\n",
    "        columns=columns_to_keep,\n",
    "        schema_overrides={\"Incident Zip\": pl.Utf8},  # Force as string\n",
    "        null_values=[\"NA\", \"N/A\", \"\"]\n",
    "    )\n",
    "\n",
    "\n",
    "    out_path = file_path.replace(\".csv\", \"_filtered.csv\")\n",
    "    \n",
    "    df.write_csv(out_path)\n",
    "\n",
    "print('complete')"
   ]
  },
  {
   "cell_type": "code",
   "execution_count": 17,
   "id": "bacc1173-3f10-4ed8-8d67-af0fbc4838b5",
   "metadata": {},
   "outputs": [
    {
     "data": {
      "text/plain": [
       "['/home/adnan/derp/map_data/311_nyc_2018.csv',\n",
       " '/home/adnan/derp/map_data/311_nyc_2016.csv',\n",
       " '/home/adnan/derp/map_data/311_nyc_2011.csv',\n",
       " '/home/adnan/derp/map_data/311_nyc_2024.csv',\n",
       " '/home/adnan/derp/map_data/311_nyc_2023.csv',\n",
       " '/home/adnan/derp/map_data/311_nyc_2022.csv',\n",
       " '/home/adnan/derp/map_data/311_nyc_2025.csv',\n",
       " '/home/adnan/derp/map_data/311_nyc_2010.csv',\n",
       " '/home/adnan/derp/map_data/311_nyc_2017.csv',\n",
       " '/home/adnan/derp/map_data/311_nyc_2019.csv',\n",
       " '/home/adnan/derp/map_data/311_nyc_2021.csv',\n",
       " '/home/adnan/derp/map_data/311_nyc_2014.csv',\n",
       " '/home/adnan/derp/map_data/311_nyc_2013.csv',\n",
       " '/home/adnan/derp/map_data/311_nyc.csv',\n",
       " '/home/adnan/derp/map_data/311_nyc_2012.csv',\n",
       " '/home/adnan/derp/map_data/311_nyc_2015.csv',\n",
       " '/home/adnan/derp/map_data/311_nyc_2020.csv']"
      ]
     },
     "execution_count": 17,
     "metadata": {},
     "output_type": "execute_result"
    }
   ],
   "source": [
    "import glob\n",
    "glob.glob(\"/home/adnan/derp/map_data/*.csv\")"
   ]
  },
  {
   "cell_type": "code",
   "execution_count": 18,
   "id": "91fc311f-a5ea-4a7c-a13b-97888418a585",
   "metadata": {},
   "outputs": [
    {
     "data": {
      "text/plain": [
       "37"
      ]
     },
     "execution_count": 18,
     "metadata": {},
     "output_type": "execute_result"
    }
   ],
   "source": [
    "len('/home/adnan/derp/map_data/311_nyc.csv')"
   ]
  },
  {
   "cell_type": "code",
   "execution_count": null,
   "id": "d11731b3-5fc1-427f-a750-8f0454ce4929",
   "metadata": {},
   "outputs": [],
   "source": []
  }
 ],
 "metadata": {
  "kernelspec": {
   "display_name": "Python 3 (ipykernel)",
   "language": "python",
   "name": "python3"
  },
  "language_info": {
   "codemirror_mode": {
    "name": "ipython",
    "version": 3
   },
   "file_extension": ".py",
   "mimetype": "text/x-python",
   "name": "python",
   "nbconvert_exporter": "python",
   "pygments_lexer": "ipython3",
   "version": "3.12.3"
  }
 },
 "nbformat": 4,
 "nbformat_minor": 5
}
