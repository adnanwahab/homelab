{
 "cells": [
  {
   "cell_type": "code",
   "execution_count": 1,
   "id": "769f450c-6750-4d0a-97ef-f39aaa8b5076",
   "metadata": {
    "scrolled": true
   },
   "outputs": [
    {
     "name": "stdout",
     "output_type": "stream",
     "text": [
      "\u001b[2K\u001b[2mResolved \u001b[1m22 packages\u001b[0m \u001b[2min 144ms\u001b[0m\u001b[0m                                        \u001b[0m\n",
      "\u001b[2mAudited \u001b[1m22 packages\u001b[0m \u001b[2min 0.10ms\u001b[0m\u001b[0m\n"
     ]
    }
   ],
   "source": [
    "! uv pip install --upgrade google-api-python-client google-auth-httplib2 google-auth-oauthlib\n",
    "b"
   ]
  },
  {
   "cell_type": "code",
   "execution_count": 10,
   "id": "2a8d8dc1-0ea1-48b1-88fe-d5440367ebaf",
   "metadata": {},
   "outputs": [
    {
     "name": "stdout",
     "output_type": "stream",
     "text": [
      "Current working directory: /Users/shelbernstein/homelab/notebooks\n",
      "Files in current directory: ['GDELT.ipynb', 'fastapi.html', '.DS_Store', 'dist', 'Untitled.ipynb', 'prediction', 'webgpu-examples', 'yt_dlp.py', 'Azure.ipynb', 'simulation', 'dynamicland.ipynb', 'geospatial.ipynb', 'backend', 'Rtings_for_robotics.ipynb', 'browser_base_research_agent.py', 'Gaia-Astronomy.ipynb', 'browser-use-agent-test.py', '.env', 'vision-transformer.py', 'Waymo.ipynb', 'try-browser-use.py', 'download_youtube_video.py', 'learning_from_driving.ipynb', 'whisper-transcribe.py', '.ipynb_checkpoints', 'perception', 'polars_geospatial.ipynb', 'test_azure.py', 'Connectome.ipynb', 'transcribe_audio.py', ' credentials.json', 'try-agent.py', 'src']\n"
     ]
    }
   ],
   "source": [
    "print(\"Current working directory:\", os.getcwd())\n",
    "print(\"Files in current directory:\", os.listdir('.'))"
   ]
  },
  {
   "cell_type": "code",
   "execution_count": 23,
   "id": "60b6a3db-af52-4464-866c-062dbf9df42d",
   "metadata": {},
   "outputs": [
    {
     "name": "stdout",
     "output_type": "stream",
     "text": [
      "Saved 13 emails to emails.json\n"
     ]
    }
   ],
   "source": [
    "import os.path\n",
    "import base64\n",
    "import json\n",
    "from google.oauth2.credentials import Credentials\n",
    "from google_auth_oauthlib.flow import InstalledAppFlow\n",
    "from googleapiclient.discovery import build\n",
    "from google.auth.transport.requests import Request\n",
    "\n",
    "# Scope: read-only Gmail access\n",
    "SCOPES = ['https://www.googleapis.com/auth/gmail.readonly']\n",
    "\n",
    "def get_service():\n",
    "    creds = None\n",
    "    token_path = '/Users/shelbernstein/Downloads/token.json'\n",
    "    credentials_path = '/Users/shelbernstein/homelab/notebooks/credentials.json'\n",
    "    \n",
    "    # Load existing token\n",
    "    if os.path.exists(token_path):\n",
    "        creds = Credentials.from_authorized_user_file(token_path, SCOPES)\n",
    "    \n",
    "    # If there are no valid credentials available, request authorization\n",
    "    if not creds or not creds.valid:\n",
    "        if creds and creds.expired and creds.refresh_token:\n",
    "            # Refresh expired token\n",
    "            creds.refresh(Request())\n",
    "        else:\n",
    "            # Start new OAuth flow\n",
    "            flow = InstalledAppFlow.from_client_secrets_file(credentials_path, SCOPES)\n",
    "            print('Starting OAuth flow...')\n",
    "            # Use port=0 to let the system choose an available port\n",
    "            creds = flow.run_local_server(port=8080)\n",
    "        \n",
    "        # Save the credentials for next run\n",
    "        with open(token_path, 'w') as token:\n",
    "            token.write(creds.to_json())\n",
    "    \n",
    "    return build('gmail', 'v1', credentials=creds)\n",
    "\n",
    "def fetch_emails(service, max_results=50):\n",
    "    try:\n",
    "        results = service.users().messages().list(userId='me', maxResults=max_results).execute()\n",
    "        messages = results.get('messages', [])\n",
    "        emails = []\n",
    "        \n",
    "        for msg in messages:\n",
    "            msg_data = service.users().messages().get(userId='me', id=msg['id'], format='full').execute()\n",
    "            snippet = msg_data.get('snippet', '')\n",
    "            payload = msg_data.get('payload', {})\n",
    "            headers = {h['name']: h['value'] for h in payload.get('headers', [])}\n",
    "            \n",
    "            email = {\n",
    "                'id': msg['id'],\n",
    "                'snippet': snippet,\n",
    "                'subject': headers.get('Subject'),\n",
    "                'from': headers.get('From'),\n",
    "                'to': headers.get('To'),\n",
    "                'date': headers.get('Date')\n",
    "            }\n",
    "            emails.append(email)\n",
    "        \n",
    "        return emails\n",
    "    except Exception as error:\n",
    "        print(f'An error occurred: {error}')\n",
    "        return []\n",
    "\n",
    "if __name__ == '__main__':\n",
    "    service = get_service()\n",
    "    emails = fetch_emails(service)\n",
    "    \n",
    "    with open('emails.json', 'w') as f:\n",
    "        json.dump(emails, f, indent=2)\n",
    "    \n",
    "    print(f\"Saved {len(emails)} emails to emails.json\")"
   ]
  },
  {
   "cell_type": "code",
   "execution_count": 11,
   "id": "a50548cf-4e9a-4fd3-affe-545c586efda5",
   "metadata": {},
   "outputs": [
    {
     "name": "stdout",
     "output_type": "stream",
     "text": [
      "  GDELT.ipynb\n",
      "  fastapi.html\n",
      "  .DS_Store\n",
      "  dist\n",
      "  Untitled.ipynb\n",
      "  prediction\n",
      "  webgpu-examples\n",
      "  yt_dlp.py\n",
      "  Azure.ipynb\n",
      "  simulation\n",
      "  dynamicland.ipynb\n",
      "  geospatial.ipynb\n",
      "  backend\n",
      "  Rtings_for_robotics.ipynb\n",
      "  browser_base_research_agent.py\n",
      "  Gaia-Astronomy.ipynb\n",
      "  browser-use-agent-test.py\n",
      "  .env\n",
      "  vision-transformer.py\n",
      "  Waymo.ipynb\n",
      "  try-browser-use.py\n",
      "  download_youtube_video.py\n",
      "  learning_from_driving.ipynb\n",
      "  whisper-transcribe.py\n",
      "  .ipynb_checkpoints\n",
      "  perception\n",
      "  polars_geospatial.ipynb\n",
      "  test_azure.py\n",
      "  Connectome.ipynb\n",
      "  transcribe_audio.py\n",
      "   credentials.json\n",
      "  try-agent.py\n",
      "  src\n"
     ]
    }
   ],
   "source": [
    "for file in os.listdir('.'):\n",
    "    print(f\"  {file}\")"
   ]
  },
  {
   "cell_type": "code",
   "execution_count": 20,
   "id": "6ae930c3-b3d4-4b48-90b0-c3d8d9cc79bb",
   "metadata": {},
   "outputs": [
    {
     "ename": "AttributeError",
     "evalue": "'InstalledAppFlow' object has no attribute 'run_console'",
     "output_type": "error",
     "traceback": [
      "\u001b[31m---------------------------------------------------------------------------\u001b[39m",
      "\u001b[31mAttributeError\u001b[39m                            Traceback (most recent call last)",
      "\u001b[36mCell\u001b[39m\u001b[36m \u001b[39m\u001b[32mIn[20]\u001b[39m\u001b[32m, line 20\u001b[39m\n\u001b[32m     16\u001b[39m         token.write(creds.to_json())\n\u001b[32m     18\u001b[39m     \u001b[38;5;28;01mreturn\u001b[39;00m build(\u001b[33m'\u001b[39m\u001b[33mgmail\u001b[39m\u001b[33m'\u001b[39m, \u001b[33m'\u001b[39m\u001b[33mv1\u001b[39m\u001b[33m'\u001b[39m, credentials=creds)\n\u001b[32m---> \u001b[39m\u001b[32m20\u001b[39m \u001b[43mget_service\u001b[49m\u001b[43m(\u001b[49m\u001b[43m)\u001b[49m\n",
      "\u001b[36mCell\u001b[39m\u001b[36m \u001b[39m\u001b[32mIn[20]\u001b[39m\u001b[32m, line 12\u001b[39m, in \u001b[36mget_service\u001b[39m\u001b[34m()\u001b[39m\n\u001b[32m     10\u001b[39m         flow = InstalledAppFlow.from_client_secrets_file(\u001b[33m'\u001b[39m\u001b[33m/Users/shelbernstein/Downloads/credentials.json\u001b[39m\u001b[33m'\u001b[39m, SCOPES)\n\u001b[32m     11\u001b[39m         \u001b[38;5;66;03m# Use manual flow instead of local server\u001b[39;00m\n\u001b[32m---> \u001b[39m\u001b[32m12\u001b[39m         creds = \u001b[43mflow\u001b[49m\u001b[43m.\u001b[49m\u001b[43mrun_console\u001b[49m()\n\u001b[32m     14\u001b[39m \u001b[38;5;66;03m# Save credentials for next run\u001b[39;00m\n\u001b[32m     15\u001b[39m \u001b[38;5;28;01mwith\u001b[39;00m \u001b[38;5;28mopen\u001b[39m(\u001b[33m'\u001b[39m\u001b[33m/Users/shelbernstein/Downloads/token.json\u001b[39m\u001b[33m'\u001b[39m, \u001b[33m'\u001b[39m\u001b[33mw\u001b[39m\u001b[33m'\u001b[39m) \u001b[38;5;28;01mas\u001b[39;00m token:\n",
      "\u001b[31mAttributeError\u001b[39m: 'InstalledAppFlow' object has no attribute 'run_console'"
     ]
    }
   ],
   "source": [
    "def get_service():\n",
    "    creds = None\n",
    "    if os.path.exists('/Users/shelbernstein/Downloads/token.json'):\n",
    "        creds = Credentials.from_authorized_user_file('/Users/shelbernstein/Downloads/token.json', SCOPES)\n",
    "    \n",
    "    if not creds or not creds.valid:\n",
    "        if creds and creds.expired and creds.refresh_token:\n",
    "            creds.refresh(Request())\n",
    "        else:\n",
    "            flow = InstalledAppFlow.from_client_secrets_file('/Users/shelbernstein/Downloads/credentials.json', SCOPES)\n",
    "            # Use manual flow instead of local server\n",
    "            creds = flow.run_console()\n",
    "    \n",
    "    # Save credentials for next run\n",
    "    with open('/Users/shelbernstein/Downloads/token.json', 'w') as token:\n",
    "        token.write(creds.to_json())\n",
    "    \n",
    "    return build('gmail', 'v1', credentials=creds)\n",
    "\n",
    "get_service()"
   ]
  },
  {
   "cell_type": "code",
   "execution_count": null,
   "id": "d665d7e6-6945-4736-ae1f-055815d88013",
   "metadata": {},
   "outputs": [],
   "source": []
  }
 ],
 "metadata": {
  "kernelspec": {
   "display_name": "Python 3 (ipykernel)",
   "language": "python",
   "name": "python3"
  },
  "language_info": {
   "codemirror_mode": {
    "name": "ipython",
    "version": 3
   },
   "file_extension": ".py",
   "mimetype": "text/x-python",
   "name": "python",
   "nbconvert_exporter": "python",
   "pygments_lexer": "ipython3",
   "version": "3.12.6"
  }
 },
 "nbformat": 4,
 "nbformat_minor": 5
}
