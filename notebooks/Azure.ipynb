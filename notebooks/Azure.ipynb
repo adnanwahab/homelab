{
 "cells": [
  {
   "cell_type": "code",
   "execution_count": 1,
   "id": "810be422-c803-401d-b50d-66b10215a1c2",
   "metadata": {},
   "outputs": [
    {
     "name": "stdout",
     "output_type": "stream",
     "text": [
      "Response: {'choices': [{'content_filter_results': {'hate': {'filtered': False, 'severity': 'safe'}, 'self_harm': {'filtered': False, 'severity': 'safe'}, 'sexual': {'filtered': False, 'severity': 'safe'}, 'violence': {'filtered': False, 'severity': 'safe'}}, 'finish_reason': 'stop', 'index': 0, 'logprobs': None, 'message': {'content': \"Hello! 👋 It looks like you're working with Python's `requests` library. How can I assist you today? Do you need help with making HTTP requests, handling responses, or debugging your code? Let me know! 🚀\", 'refusal': None, 'role': 'assistant'}}], 'created': 1738072636, 'id': 'chatcmpl-AugNYFCxQN9ZlC0IRvCXgVtHZXd10', 'model': 'gpt-4o-2024-11-20', 'object': 'chat.completion', 'prompt_filter_results': [{'prompt_index': 0, 'content_filter_results': {'hate': {'filtered': False, 'severity': 'safe'}, 'jailbreak': {'filtered': False, 'detected': False}, 'self_harm': {'filtered': False, 'severity': 'safe'}, 'sexual': {'filtered': False, 'severity': 'safe'}, 'violence': {'filtered': False, 'severity': 'safe'}}}], 'system_fingerprint': 'fp_f3927aa00d', 'usage': {'completion_tokens': 47, 'completion_tokens_details': {'accepted_prediction_tokens': 0, 'audio_tokens': 0, 'reasoning_tokens': 0, 'rejected_prediction_tokens': 0}, 'prompt_tokens': 22, 'prompt_tokens_details': {'audio_tokens': 0, 'cached_tokens': 0}, 'total_tokens': 69}}\n"
     ]
    }
   ],
   "source": [
    "import os\n",
    "import requests\n",
    "\n",
    "endpoint = \"https://ai-dynabotdev4539ai796342985711.openai.azure.com/\"\n",
    "deployment_name = \"gpt-4o\"\n",
    "api_version = \"2023-07-01-preview\"\n",
    "api_key = os.getenv(\"AZURE_OPENAI_API_KEY\") or \"7NlEk01KPV1og3Pt0hFmtchJ0kQhlw11eTfmIkR6Clhwi84aWVrsJQQJ99BAACHYHv6XJ3w3AAAAACOGbMBI\"\n",
    "\n",
    "url = f\"{endpoint}/openai/deployments/{deployment_name}/chat/completions?api-version={api_version}\"\n",
    "#url = 'https://ai-dynabotdev4539ai796342985711.openai.azure.com/'\n",
    "\n",
    "headers = {\n",
    "    \"Content-Type\": \"application/json\",\n",
    "    \"api-key\": api_key\n",
    "}\n",
    "\n",
    "payload = {\n",
    "    \"messages\": [\n",
    "        {\"role\": \"system\", \"content\": \"You are a helpful assistant.\"},\n",
    "        {\"role\": \"user\",   \"content\": \"Hello from Python requests!\"}\n",
    "    ],\n",
    "    \"max_tokens\": 100\n",
    "}\n",
    "\n",
    "response = requests.post(url, headers=headers, json=payload)\n",
    "if response.status_code == 200:\n",
    "    print(\"Response:\", response.json())\n",
    "else:\n",
    "    print(\"Error:\", response.status_code, response.text)\n"
   ]
  }
 ],
 "metadata": {
  "kernelspec": {
   "display_name": "Python 3 (ipykernel)",
   "language": "python",
   "name": "python3"
  },
  "language_info": {
   "codemirror_mode": {
    "name": "ipython",
    "version": 3
   },
   "file_extension": ".py",
   "mimetype": "text/x-python",
   "name": "python",
   "nbconvert_exporter": "python",
   "pygments_lexer": "ipython3",
   "version": "3.12.6"
  }
 },
 "nbformat": 4,
 "nbformat_minor": 5
}
