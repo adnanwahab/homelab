{
 "cells": [
  {
   "cell_type": "code",
   "execution_count": null,
   "metadata": {},
   "outputs": [],
   "source": [
    "# Diffusion 3d policy"
   ]
  },
  {
   "cell_type": "markdown",
   "metadata": {},
   "source": [
    "# Diffusion 3D Policy\n",
    "\n",
    "\n",
    "1. https://github.com/fastai/diffusion-nbs\n",
    "2. https://3d-diffusion-policy.github.io/\n",
    "3. https://roboticsuniversity.observablehq.cloud/dynamicbotnotebook/perception/voxels-stixels-minecraft\n",
    "4. https://github.com/dusty-nv/jetson-containers/tree/master/packages/robots/3d_diffusion_policy\n",
    "5. flux\n",
    "\n",
    "stable diffusion - 2d image\n",
    "diffusion 3d policy - action trajectory = sequence of commands over time\n",
    "\n",
    "\n",
    "stable diffusion- starts with random noise\n",
    "diffusion 3d polciy - may start from latent represenetiaton of environement state nad desired goal or taks condition\n",
    "\n"
   ]
  },
  {
   "cell_type": "markdown",
   "metadata": {},
   "source": [
    "\tExamples:\n",
    "\t•\tStanford: CS 326 (Advanced Robotic Manipulation), AA 228 (Decision Making Under Uncertainty)\n",
    "\t•\tUC Berkeley: CS 287 (Advanced Robotics), CS 294 seminars on reinforcement learning and generative models in robotics\n",
    "\t•\tMIT: Courses in the Mechanical Engineering or Aeronautics and Astronautics departments, like 6.832 (Underactuated Robotics), occasionally incorporate the latest research papers on generative models for control."
   ]
  }
 ],
 "metadata": {
  "language_info": {
   "name": "python"
  }
 },
 "nbformat": 4,
 "nbformat_minor": 2
}
